{
 "cells": [
  {
   "cell_type": "code",
   "execution_count": 1,
   "metadata": {
    "execution": {
     "iopub.execute_input": "2020-08-11T06:59:39.521352Z",
     "iopub.status.busy": "2020-08-11T06:59:39.520523Z",
     "iopub.status.idle": "2020-08-11T06:59:42.999622Z",
     "shell.execute_reply": "2020-08-11T06:59:42.998910Z"
    },
    "papermill": {
     "duration": 3.512647,
     "end_time": "2020-08-11T06:59:42.999776",
     "exception": false,
     "start_time": "2020-08-11T06:59:39.487129",
     "status": "completed"
    },
    "tags": []
   },
   "outputs": [],
   "source": [
    "import os\n",
    "from pathlib import Path\n",
    "from dataclasses import dataclass\n",
    "from enum import Enum\n",
    "from tqdm import tqdm\n",
    "\n",
    "import pandas as pd\n",
    "import numpy as np\n",
    "\n",
    "import torch\n",
    "import torch.nn as nn\n",
    "import torch.nn.functional as F\n",
    "from torch.utils.data import Dataset\n",
    "from torch.utils.data import DataLoader\n",
    "import torch.optim as optim\n",
    "from torchvision.models.detection.faster_rcnn import FastRCNNPredictor, FasterRCNN\n",
    "from torchvision.models.detection.backbone_utils import resnet_fpn_backbone\n",
    "\n",
    "from albumentations import *\n",
    "from albumentations.pytorch import ToTensorV2\n",
    "import cv2"
   ]
  },
  {
   "cell_type": "code",
   "execution_count": 2,
   "metadata": {
    "execution": {
     "iopub.execute_input": "2020-08-11T06:59:43.049648Z",
     "iopub.status.busy": "2020-08-11T06:59:43.048905Z",
     "iopub.status.idle": "2020-08-11T06:59:43.052133Z",
     "shell.execute_reply": "2020-08-11T06:59:43.051501Z"
    },
    "papermill": {
     "duration": 0.02997,
     "end_time": "2020-08-11T06:59:43.052257",
     "exception": false,
     "start_time": "2020-08-11T06:59:43.022287",
     "status": "completed"
    },
    "tags": []
   },
   "outputs": [],
   "source": [
    "device = torch.device('cuda')"
   ]
  },
  {
   "cell_type": "code",
   "execution_count": 3,
   "metadata": {
    "execution": {
     "iopub.execute_input": "2020-08-11T06:59:43.148664Z",
     "iopub.status.busy": "2020-08-11T06:59:43.122397Z",
     "iopub.status.idle": "2020-08-11T06:59:43.196837Z",
     "shell.execute_reply": "2020-08-11T06:59:43.196187Z"
    },
    "papermill": {
     "duration": 0.122119,
     "end_time": "2020-08-11T06:59:43.196981",
     "exception": false,
     "start_time": "2020-08-11T06:59:43.074862",
     "status": "completed"
    },
    "tags": []
   },
   "outputs": [],
   "source": [
    "import warnings\n",
    "from collections import namedtuple\n",
    "import torch\n",
    "import torch.nn as nn\n",
    "import torch.nn.functional as F\n",
    "from torch.jit.annotations import Optional, Tuple\n",
    "from torch import Tensor\n",
    "\n",
    "__all__ = ['GoogLeNet', 'googlenet', \"GoogLeNetOutputs\", \"_GoogLeNetOutputs\"]\n",
    "\n",
    "model_urls = {\n",
    "    # GoogLeNet ported from TensorFlow\n",
    "    'googlenet': '/kaggle/input/fourthpth/googlenet-1378be20.pth',\n",
    "}\n",
    "\n",
    "GoogLeNetOutputs = namedtuple('GoogLeNetOutputs', ['logits', 'aux_logits2', 'aux_logits1'])\n",
    "GoogLeNetOutputs.__annotations__ = {'logits': Tensor, 'aux_logits2': Optional[Tensor],\n",
    "                                    'aux_logits1': Optional[Tensor]}\n",
    "\n",
    "# Script annotations failed with _GoogleNetOutputs = namedtuple ...\n",
    "# _GoogLeNetOutputs set here for backwards compat\n",
    "_GoogLeNetOutputs = GoogLeNetOutputs\n",
    "\n",
    "\n",
    "def googlenet(pretrained=False, **kwargs):\n",
    "    r\"\"\"GoogLeNet (Inception v1) model architecture from\n",
    "    `\"Going Deeper with Convolutions\" <http://arxiv.org/abs/1409.4842>`_.\n",
    "    Args:\n",
    "        pretrained (bool): If True, returns a model pre-trained on ImageNet\n",
    "        progress (bool): If True, displays a progress bar of the download to stderr\n",
    "        aux_logits (bool): If True, adds two auxiliary branches that can improve training.\n",
    "            Default: *False* when pretrained is True otherwise *True*\n",
    "        transform_input (bool): If True, preprocesses the input according to the method with which it\n",
    "            was trained on ImageNet. Default: *False*\n",
    "    \"\"\"\n",
    "    if pretrained:\n",
    "        if 'transform_input' not in kwargs:\n",
    "            kwargs['transform_input'] = True\n",
    "        if 'aux_logits' not in kwargs:\n",
    "            kwargs['aux_logits'] = False\n",
    "        if kwargs['aux_logits']:\n",
    "            warnings.warn('auxiliary heads in the pretrained googlenet model are NOT pretrained, '\n",
    "                          'so make sure to train them')\n",
    "        original_aux_logits = kwargs['aux_logits']\n",
    "        kwargs['aux_logits'] = True\n",
    "        kwargs['init_weights'] = False\n",
    "        model = GoogLeNet(**kwargs)\n",
    "        state_dict = model_urls\n",
    "        model.load_state_dict(state_dict)\n",
    "        if not original_aux_logits:\n",
    "            model.aux_logits = False\n",
    "            model.aux1 = None\n",
    "            model.aux2 = None\n",
    "        return model\n",
    "\n",
    "    return GoogLeNet(**kwargs)\n",
    "\n",
    "\n",
    "class GoogLeNet(nn.Module):\n",
    "    __constants__ = ['aux_logits', 'transform_input']\n",
    "\n",
    "    def __init__(self, num_classes=1000, aux_logits=True, transform_input=False, init_weights=None,\n",
    "                 blocks=None):\n",
    "        super(GoogLeNet, self).__init__()\n",
    "        if blocks is None:\n",
    "            blocks = [BasicConv2d, Inception, InceptionAux]\n",
    "        if init_weights is None:\n",
    "            warnings.warn('The default weight initialization of GoogleNet will be changed in future releases of '\n",
    "                          'torchvision. If you wish to keep the old behavior (which leads to long initialization times'\n",
    "                          ' due to scipy/scipy#11299), please set init_weights=True.', FutureWarning)\n",
    "            init_weights = True\n",
    "        assert len(blocks) == 3\n",
    "        conv_block = blocks[0]\n",
    "        inception_block = blocks[1]\n",
    "        inception_aux_block = blocks[2]\n",
    "\n",
    "        self.aux_logits = aux_logits\n",
    "        self.transform_input = transform_input\n",
    "\n",
    "        self.conv1 = conv_block(3, 64, kernel_size=7, stride=2, padding=3)\n",
    "        self.maxpool1 = nn.MaxPool2d(3, stride=2, ceil_mode=True)\n",
    "        self.conv2 = conv_block(64, 64, kernel_size=1)\n",
    "        self.conv3 = conv_block(64, 192, kernel_size=3, padding=1)\n",
    "        self.maxpool2 = nn.MaxPool2d(3, stride=2, ceil_mode=True)\n",
    "\n",
    "        self.inception3a = inception_block(192, 64, 96, 128, 16, 32, 32)\n",
    "        self.inception3b = inception_block(256, 128, 128, 192, 32, 96, 64)\n",
    "        self.maxpool3 = nn.MaxPool2d(3, stride=2, ceil_mode=True)\n",
    "\n",
    "        self.inception4a = inception_block(480, 192, 96, 208, 16, 48, 64)\n",
    "        self.inception4b = inception_block(512, 160, 112, 224, 24, 64, 64)\n",
    "        self.inception4c = inception_block(512, 128, 128, 256, 24, 64, 64)\n",
    "        self.inception4d = inception_block(512, 112, 144, 288, 32, 64, 64)\n",
    "        self.inception4e = inception_block(528, 256, 160, 320, 32, 128, 128)\n",
    "        self.maxpool4 = nn.MaxPool2d(2, stride=2, ceil_mode=True)\n",
    "\n",
    "        self.inception5a = inception_block(832, 256, 160, 320, 32, 128, 128)\n",
    "        self.inception5b = inception_block(832, 384, 192, 384, 48, 128, 128)\n",
    "\n",
    "        if aux_logits:\n",
    "            self.aux1 = inception_aux_block(512, num_classes)\n",
    "            self.aux2 = inception_aux_block(528, num_classes)\n",
    "        else:\n",
    "            self.aux1 = None\n",
    "            self.aux2 = None\n",
    "\n",
    "        self.avgpool = nn.AdaptiveAvgPool2d((1, 1))\n",
    "        self.dropout = nn.Dropout(0.2)\n",
    "        self.fc = nn.Linear(1024, num_classes)\n",
    "\n",
    "        if init_weights:\n",
    "            self._initialize_weights()\n",
    "\n",
    "    def _initialize_weights(self):\n",
    "        for m in self.modules():\n",
    "            if isinstance(m, nn.Conv2d) or isinstance(m, nn.Linear):\n",
    "                import scipy.stats as stats\n",
    "                X = stats.truncnorm(-2, 2, scale=0.01)\n",
    "                values = torch.as_tensor(X.rvs(m.weight.numel()), dtype=m.weight.dtype)\n",
    "                values = values.view(m.weight.size())\n",
    "                with torch.no_grad():\n",
    "                    m.weight.copy_(values)\n",
    "            elif isinstance(m, nn.BatchNorm2d):\n",
    "                nn.init.constant_(m.weight, 1)\n",
    "                nn.init.constant_(m.bias, 0)\n",
    "\n",
    "    def _transform_input(self, x):\n",
    "        # type: (Tensor) -> Tensor\n",
    "        if self.transform_input:\n",
    "            x_ch0 = torch.unsqueeze(x[:, 0], 1) * (0.229 / 0.5) + (0.485 - 0.5) / 0.5\n",
    "            x_ch1 = torch.unsqueeze(x[:, 1], 1) * (0.224 / 0.5) + (0.456 - 0.5) / 0.5\n",
    "            x_ch2 = torch.unsqueeze(x[:, 2], 1) * (0.225 / 0.5) + (0.406 - 0.5) / 0.5\n",
    "            x = torch.cat((x_ch0, x_ch1, x_ch2), 1)\n",
    "        return x\n",
    "\n",
    "    def _forward(self, x):\n",
    "        # type: (Tensor) -> Tuple[Tensor, Optional[Tensor], Optional[Tensor]]\n",
    "        # N x 3 x 224 x 224\n",
    "        x = self.conv1(x)\n",
    "        # N x 64 x 112 x 112\n",
    "        x = self.maxpool1(x)\n",
    "        # N x 64 x 56 x 56\n",
    "        x = self.conv2(x)\n",
    "        # N x 64 x 56 x 56\n",
    "        x = self.conv3(x)\n",
    "        # N x 192 x 56 x 56\n",
    "        x = self.maxpool2(x)\n",
    "\n",
    "        # N x 192 x 28 x 28\n",
    "        x = self.inception3a(x)\n",
    "        # N x 256 x 28 x 28\n",
    "        x = self.inception3b(x)\n",
    "        # N x 480 x 28 x 28\n",
    "        x = self.maxpool3(x)\n",
    "        # N x 480 x 14 x 14\n",
    "        x = self.inception4a(x)\n",
    "        # N x 512 x 14 x 14\n",
    "        aux1 = torch.jit.annotate(Optional[Tensor], None)\n",
    "        if self.aux1 is not None:\n",
    "            if self.training:\n",
    "                aux1 = self.aux1(x)\n",
    "\n",
    "        x = self.inception4b(x)\n",
    "        # N x 512 x 14 x 14\n",
    "        x = self.inception4c(x)\n",
    "        # N x 512 x 14 x 14\n",
    "        x = self.inception4d(x)\n",
    "        # N x 528 x 14 x 14\n",
    "        aux2 = torch.jit.annotate(Optional[Tensor], None)\n",
    "        if self.aux2 is not None:\n",
    "            if self.training:\n",
    "                aux2 = self.aux2(x)\n",
    "\n",
    "        x = self.inception4e(x)\n",
    "        # N x 832 x 14 x 14\n",
    "        x = self.maxpool4(x)\n",
    "        # N x 832 x 7 x 7\n",
    "        x = self.inception5a(x)\n",
    "        # N x 832 x 7 x 7\n",
    "        x = self.inception5b(x)\n",
    "        # N x 1024 x 7 x 7\n",
    "\n",
    "        x = self.avgpool(x)\n",
    "        # N x 1024 x 1 x 1\n",
    "        x = torch.flatten(x, 1)\n",
    "        # N x 1024\n",
    "        x = self.dropout(x)\n",
    "        x = self.fc(x)\n",
    "        # N x 1000 (num_classes)\n",
    "        return x, aux2, aux1\n",
    "\n",
    "    @torch.jit.unused\n",
    "    def eager_outputs(self, x, aux2, aux1):\n",
    "        # type: (Tensor, Optional[Tensor], Optional[Tensor]) -> GoogLeNetOutputs\n",
    "        if self.training and self.aux_logits:\n",
    "            return _GoogLeNetOutputs(x, aux2, aux1)\n",
    "        else:\n",
    "            return x\n",
    "\n",
    "    def forward(self, x):\n",
    "        # type: (Tensor) -> GoogLeNetOutputs\n",
    "        x = self._transform_input(x)\n",
    "        x, aux1, aux2 = self._forward(x)\n",
    "        aux_defined = self.training and self.aux_logits\n",
    "        if torch.jit.is_scripting():\n",
    "            if not aux_defined:\n",
    "                warnings.warn(\"Scripted GoogleNet always returns GoogleNetOutputs Tuple\")\n",
    "            return GoogLeNetOutputs(x, aux2, aux1)\n",
    "        else:\n",
    "            return self.eager_outputs(x, aux2, aux1)\n",
    "\n",
    "\n",
    "class Inception(nn.Module):\n",
    "\n",
    "    def __init__(self, in_channels, ch1x1, ch3x3red, ch3x3, ch5x5red, ch5x5, pool_proj,\n",
    "                 conv_block=None):\n",
    "        super(Inception, self).__init__()\n",
    "        if conv_block is None:\n",
    "            conv_block = BasicConv2d\n",
    "        self.branch1 = conv_block(in_channels, ch1x1, kernel_size=1)\n",
    "\n",
    "        self.branch2 = nn.Sequential(\n",
    "            conv_block(in_channels, ch3x3red, kernel_size=1),\n",
    "            conv_block(ch3x3red, ch3x3, kernel_size=3, padding=1)\n",
    "        )\n",
    "\n",
    "        self.branch3 = nn.Sequential(\n",
    "            conv_block(in_channels, ch5x5red, kernel_size=1),\n",
    "            # Here, kernel_size=3 instead of kernel_size=5 is a known bug.\n",
    "            # Please see https://github.com/pytorch/vision/issues/906 for details.\n",
    "            conv_block(ch5x5red, ch5x5, kernel_size=3, padding=1)\n",
    "        )\n",
    "\n",
    "        self.branch4 = nn.Sequential(\n",
    "            nn.MaxPool2d(kernel_size=3, stride=1, padding=1, ceil_mode=True),\n",
    "            conv_block(in_channels, pool_proj, kernel_size=1)\n",
    "        )\n",
    "\n",
    "    def _forward(self, x):\n",
    "        branch1 = self.branch1(x)\n",
    "        branch2 = self.branch2(x)\n",
    "        branch3 = self.branch3(x)\n",
    "        branch4 = self.branch4(x)\n",
    "\n",
    "        outputs = [branch1, branch2, branch3, branch4]\n",
    "        return outputs\n",
    "\n",
    "    def forward(self, x):\n",
    "        outputs = self._forward(x)\n",
    "        return torch.cat(outputs, 1)\n",
    "\n",
    "\n",
    "class InceptionAux(nn.Module):\n",
    "\n",
    "    def __init__(self, in_channels, num_classes, conv_block=None):\n",
    "        super(InceptionAux, self).__init__()\n",
    "        if conv_block is None:\n",
    "            conv_block = BasicConv2d\n",
    "        self.conv = conv_block(in_channels, 128, kernel_size=1)\n",
    "\n",
    "        self.fc1 = nn.Linear(2048, 1024)\n",
    "        self.fc2 = nn.Linear(1024, num_classes)\n",
    "\n",
    "    def forward(self, x):\n",
    "        # aux1: N x 512 x 14 x 14, aux2: N x 528 x 14 x 14\n",
    "        x = F.adaptive_avg_pool2d(x, (4, 4))\n",
    "        # aux1: N x 512 x 4 x 4, aux2: N x 528 x 4 x 4\n",
    "        x = self.conv(x)\n",
    "        # N x 128 x 4 x 4\n",
    "        x = torch.flatten(x, 1)\n",
    "        # N x 2048\n",
    "        x = F.relu(self.fc1(x), inplace=True)\n",
    "        # N x 1024\n",
    "        x = F.dropout(x, 0.7, training=self.training)\n",
    "        # N x 1024\n",
    "        x = self.fc2(x)\n",
    "        # N x 1000 (num_classes)\n",
    "\n",
    "        return x\n",
    "\n",
    "\n",
    "class BasicConv2d(nn.Module):\n",
    "\n",
    "    def __init__(self, in_channels, out_channels, **kwargs):\n",
    "        super(BasicConv2d, self).__init__()\n",
    "        self.conv = nn.Conv2d(in_channels, out_channels, bias=False, **kwargs)\n",
    "        self.bn = nn.BatchNorm2d(out_channels, eps=0.001)\n",
    "\n",
    "    def forward(self, x):\n",
    "        x = self.conv(x)\n",
    "        x = self.bn(x)\n",
    "        return F.relu(x, inplace=True)"
   ]
  },
  {
   "cell_type": "code",
   "execution_count": 4,
   "metadata": {
    "execution": {
     "iopub.execute_input": "2020-08-11T06:59:43.254439Z",
     "iopub.status.busy": "2020-08-11T06:59:43.253619Z",
     "iopub.status.idle": "2020-08-11T06:59:43.619818Z",
     "shell.execute_reply": "2020-08-11T06:59:43.619029Z"
    },
    "papermill": {
     "duration": 0.401001,
     "end_time": "2020-08-11T06:59:43.619953",
     "exception": false,
     "start_time": "2020-08-11T06:59:43.218952",
     "status": "completed"
    },
    "tags": []
   },
   "outputs": [
    {
     "ename": "RuntimeError",
     "evalue": "Error(s) in loading state_dict for GoogLeNet:\n\tMissing key(s) in state_dict: \"conv1.conv.weight\", \"conv1.bn.weight\", \"conv1.bn.bias\", \"conv1.bn.running_mean\", \"conv1.bn.running_var\", \"conv2.conv.weight\", \"conv2.bn.weight\", \"conv2.bn.bias\", \"conv2.bn.running_mean\", \"conv2.bn.running_var\", \"conv3.conv.weight\", \"conv3.bn.weight\", \"conv3.bn.bias\", \"conv3.bn.running_mean\", \"conv3.bn.running_var\", \"inception3a.branch1.conv.weight\", \"inception3a.branch1.bn.weight\", \"inception3a.branch1.bn.bias\", \"inception3a.branch1.bn.running_mean\", \"inception3a.branch1.bn.running_var\", \"inception3a.branch2.0.conv.weight\", \"inception3a.branch2.0.bn.weight\", \"inception3a.branch2.0.bn.bias\", \"inception3a.branch2.0.bn.running_mean\", \"inception3a.branch2.0.bn.running_var\", \"inception3a.branch2.1.conv.weight\", \"inception3a.branch2.1.bn.weight\", \"inception3a.branch2.1.bn.bias\", \"inception3a.branch2.1.bn.running_mean\", \"inception3a.branch2.1.bn.running_var\", \"inception3a.branch3.0.conv.weight\", \"inception3a.branch3.0.bn.weight\", \"inception3a.branch3.0.bn.bias\", \"inception3a.branch3.0.bn.running_mean\", \"inception3a.branch3.0.bn.running_var\", \"inception3a.branch3.1.conv.weight\", \"inception3a.branch3.1.bn.weight\", \"inception3a.branch3.1.bn.bias\", \"inception3a.branch3.1.bn.running_mean\", \"inception3a.branch3.1.bn.running_var\", \"inception3a.branch4.1.conv.weight\", \"inception3a.branch4.1.bn.weight\", \"inception3a.branch4.1.bn.bias\", \"inception3a.branch4.1.bn.running_mean\", \"inception3a.branch4.1.bn.running_var\", \"inception3b.branch1.conv.weight\", \"inception3b.branch1.bn.weight\", \"inception3b.branch1.bn.bias\", \"inception3b.branch1.bn.running_mean\", \"inception3b.branch1.bn.running_var\", \"inception3b.branch2.0.conv.weight\", \"inception3b.branch2.0.bn.weight\", \"inception3b.branch2.0.bn.bias\", \"inception3b.branch2.0.bn.running_mean\", \"inception3b.branch2.0.bn.running_var\", \"inception3b.branch2.1.conv.weight\", \"inception3b.branch2.1.bn.weight\", \"inception3b.branch2.1.bn.bias\", \"inception3b.branch2.1.bn.running_mean\", \"inception3b.branch2.1.bn.running_var\", \"inception3b.branch3.0.conv.weight\", \"inception3b.branch3.0.bn.weight\", \"inception3b.branch3.0.bn.bias\", \"inception3b.branch3.0.bn.running_mean\", \"inception3b.branch3.0.bn.running_var\", \"inception3b.branch3.1.conv.weight\", \"inception3b.branch3.1.bn.weight\", \"inception3b.branch3.1.bn.bias\", \"inception3b.branch3.1.bn.running_mean\", \"inception3b.branch3.1.bn.running_var\", \"inception3b.branch4.1.conv.weight\", \"inception3b.branch4.1.bn.weight\", \"inception3b.branch4.1.bn.bias\", \"inception3b.branch4.1.bn.running_mean\", \"inception3b.branch4.1.bn.running_var\", \"inception4a.branch1.conv.weight\", \"inception4a.branch1.bn.weight\", \"inception4a.branch1.bn.bias\", \"inception4a.branch1.bn.running_mean\", \"inception4a.branch1.bn.running_var\", \"inception4a.branch2.0.conv.weight\", \"inception4a.branch2.0.bn.weight\", \"inception4a.branch2.0.bn.bias\", \"inception4a.branch2.0.bn.running_mean\", \"inception4a.branch2.0.bn.running_var\", \"inception4a.branch2.1.conv.weight\", \"inception4a.branch2.1.bn.weight\", \"inception4a.branch2.1.bn.bias\", \"inception4a.branch2.1.bn.running_mean\", \"inception4a.branch2.1.bn.running_var\", \"inception4a.branch3.0.conv.weight\", \"inception4a.branch3.0.bn.weight\", \"inception4a.branch3.0.bn.bias\", \"inception4a.branch3.0.bn.running_mean\", \"inception4a.branch3.0.bn.running_var\", \"inception4a.branch3.1.conv.weight\", \"inception4a.branch3.1.bn.weight\", \"inception4a.branch3.1.bn.bias\", \"inception4a.branch3.1.bn.running_mean\", \"inception4a.branch3.1.bn.running_var\", \"inception4a.branch4.1.conv.weight\", \"inception4a.branch4.1.bn.weight\", \"inception4a.branch4.1.bn.bias\", \"inception4a.branch4.1.bn.running_mean\", \"inception4a.branch4.1.bn.running_var\", \"inception4b.branch1.conv.weight\", \"inception4b.branch1.bn.weight\", \"inception4b.branch1.bn.bias\", \"inception4b.branch1.bn.running_mean\", \"inception4b.branch1.bn.running_var\", \"inception4b.branch2.0.conv.weight\", \"inception4b.branch2.0.bn.weight\", \"inception4b.branch2.0.bn.bias\", \"inception4b.branch2.0.bn.running_mean\", \"inception4b.branch2.0.bn.running_var\", \"inception4b.branch2.1.conv.weight\", \"inception4b.branch2.1.bn.weight\", \"inception4b.branch2.1.bn.bias\", \"inception4b.branch2.1.bn.running_mean\", \"inception4b.branch2.1.bn.running_var\", \"inception4b.branch3.0.conv.weight\", \"inception4b.branch3.0.bn.weight\", \"inception4b.branch3.0.bn.bias\", \"inception4b.branch3.0.bn.running_mean\", \"inception4b.branch3.0.bn.running_var\", \"inception4b.branch3.1.conv.weight\", \"inception4b.branch3.1.bn.weight\", \"inception4b.branch3.1.bn.bias\", \"inception4b.branch3.1.bn.running_mean\", \"inception4b.branch3.1.bn.running_var\", \"inception4b.branch4.1.conv.weight\", \"inception4b.branch4.1.bn.weight\", \"inception4b.branch4.1.bn.bias\", \"inception4b.branch4.1.bn.running_mean\", \"inception4b.branch4.1.bn.running_var\", \"inception4c.branch1.conv.weight\", \"inception4c.branch1.bn.weight\", \"inception4c.branch1.bn.bias\", \"inception4c.branch1.bn.running_mean\", \"inception4c.branch1.bn.running_var\", \"inception4c.branch2.0.conv.weight\", \"inception4c.branch2.0.bn.weight\", \"inception4c.branch2.0.bn.bias\", \"inception4c.branch2.0.bn.running_mean\", \"inception4c.branch2.0.bn.running_var\", \"inception4c.branch2.1.conv.weight\", \"inception4c.branch2.1.bn.weight\", \"inception4c.branch2.1.bn.bias\", \"inception4c.branch2.1.bn.running_mean\", \"inception4c.branch2.1.bn.running_var\", \"inception4c.branch3.0.conv.weight\", \"inception4c.branch3.0.bn.weight\", \"inception4c.branch3.0.bn.bias\", \"inception4c.branch3.0.bn.running_mean\", \"inception4c.branch3.0.bn.running_var\", \"inception4c.branch3.1.conv.weight\", \"inception4c.branch3.1.bn.weight\", \"inception4c.branch3.1.bn.bias\", \"inception4c.branch3.1.bn.running_mean\", \"inception4c.branch3.1.bn.running_var\", \"inception4c.branch4.1.conv.weight\", \"inception4c.branch4.1.bn.weight\", \"inception4c.branch4.1.bn.bias\", \"inception4c.branch4.1.bn.running_mean\", \"inception4c.branch4.1.bn.running_var\", \"inception4d.branch1.conv.weight\", \"inception4d.branch1.bn.weight\", \"inception4d.branch1.bn.bias\", \"inception4d.branch1.bn.running_mean\", \"inception4d.branch1.bn.running_var\", \"inception4d.branch2.0.conv.weight\", \"inception4d.branch2.0.bn.weight\", \"inception4d.branch2.0.bn.bias\", \"inception4d.branch2.0.bn.running_mean\", \"inception4d.branch2.0.bn.running_var\", \"inception4d.branch2.1.conv.weight\", \"inception4d.branch2.1.bn.weight\", \"inception4d.branch2.1.bn.bias\", \"inception4d.branch2.1.bn.running_mean\", \"inception4d.branch2.1.bn.running_var\", \"inception4d.branch3.0.conv.weight\", \"inception4d.branch3.0.bn.weight\", \"inception4d.branch3.0.bn.bias\", \"inception4d.branch3.0.bn.running_mean\", \"inception4d.branch3.0.bn.running_var\", \"inception4d.branch3.1.conv.weight\", \"inception4d.branch3.1.bn.weight\", \"inception4d.branch3.1.bn.bias\", \"inception4d.branch3.1.bn.running_mean\", \"inception4d.branch3.1.bn.running_var\", \"inception4d.branch4.1.conv.weight\", \"inception4d.branch4.1.bn.weight\", \"inception4d.branch4.1.bn.bias\", \"inception4d.branch4.1.bn.running_mean\", \"inception4d.branch4.1.bn.running_var\", \"inception4e.branch1.conv.weight\", \"inception4e.branch1.bn.weight\", \"inception4e.branch1.bn.bias\", \"inception4e.branch1.bn.running_mean\", \"inception4e.branch1.bn.running_var\", \"inception4e.branch2.0.conv.weight\", \"inception4e.branch2.0.bn.weight\", \"inception4e.branch2.0.bn.bias\", \"inception4e.branch2.0.bn.running_mean\", \"inception4e.branch2.0.bn.running_var\", \"inception4e.branch2.1.conv.weight\", \"inception4e.branch2.1.bn.weight\", \"inception4e.branch2.1.bn.bias\", \"inception4e.branch2.1.bn.running_mean\", \"inception4e.branch2.1.bn.running_var\", \"inception4e.branch3.0.conv.weight\", \"inception4e.branch3.0.bn.weight\", \"inception4e.branch3.0.bn.bias\", \"inception4e.branch3.0.bn.running_mean\", \"inception4e.branch3.0.bn.running_var\", \"inception4e.branch3.1.conv.weight\", \"inception4e.branch3.1.bn.weight\", \"inception4e.branch3.1.bn.bias\", \"inception4e.branch3.1.bn.running_mean\", \"inception4e.branch3.1.bn.running_var\", \"inception4e.branch4.1.conv.weight\", \"inception4e.branch4.1.bn.weight\", \"inception4e.branch4.1.bn.bias\", \"inception4e.branch4.1.bn.running_mean\", \"inception4e.branch4.1.bn.running_var\", \"inception5a.branch1.conv.weight\", \"inception5a.branch1.bn.weight\", \"inception5a.branch1.bn.bias\", \"inception5a.branch1.bn.running_mean\", \"inception5a.branch1.bn.running_var\", \"inception5a.branch2.0.conv.weight\", \"inception5a.branch2.0.bn.weight\", \"inception5a.branch2.0.bn.bias\", \"inception5a.branch2.0.bn.running_mean\", \"inception5a.branch2.0.bn.running_var\", \"inception5a.branch2.1.conv.weight\", \"inception5a.branch2.1.bn.weight\", \"inception5a.branch2.1.bn.bias\", \"inception5a.branch2.1.bn.running_mean\", \"inception5a.branch2.1.bn.running_var\", \"inception5a.branch3.0.conv.weight\", \"inception5a.branch3.0.bn.weight\", \"inception5a.branch3.0.bn.bias\", \"inception5a.branch3.0.bn.running_mean\", \"inception5a.branch3.0.bn.running_var\", \"inception5a.branch3.1.conv.weight\", \"inception5a.branch3.1.bn.weight\", \"inception5a.branch3.1.bn.bias\", \"inception5a.branch3.1.bn.running_mean\", \"inception5a.branch3.1.bn.running_var\", \"inception5a.branch4.1.conv.weight\", \"inception5a.branch4.1.bn.weight\", \"inception5a.branch4.1.bn.bias\", \"inception5a.branch4.1.bn.running_mean\", \"inception5a.branch4.1.bn.running_var\", \"inception5b.branch1.conv.weight\", \"inception5b.branch1.bn.weight\", \"inception5b.branch1.bn.bias\", \"inception5b.branch1.bn.running_mean\", \"inception5b.branch1.bn.running_var\", \"inception5b.branch2.0.conv.weight\", \"inception5b.branch2.0.bn.weight\", \"inception5b.branch2.0.bn.bias\", \"inception5b.branch2.0.bn.running_mean\", \"inception5b.branch2.0.bn.running_var\", \"inception5b.branch2.1.conv.weight\", \"inception5b.branch2.1.bn.weight\", \"inception5b.branch2.1.bn.bias\", \"inception5b.branch2.1.bn.running_mean\", \"inception5b.branch2.1.bn.running_var\", \"inception5b.branch3.0.conv.weight\", \"inception5b.branch3.0.bn.weight\", \"inception5b.branch3.0.bn.bias\", \"inception5b.branch3.0.bn.running_mean\", \"inception5b.branch3.0.bn.running_var\", \"inception5b.branch3.1.conv.weight\", \"inception5b.branch3.1.bn.weight\", \"inception5b.branch3.1.bn.bias\", \"inception5b.branch3.1.bn.running_mean\", \"inception5b.branch3.1.bn.running_var\", \"inception5b.branch4.1.conv.weight\", \"inception5b.branch4.1.bn.weight\", \"inception5b.branch4.1.bn.bias\", \"inception5b.branch4.1.bn.running_mean\", \"inception5b.branch4.1.bn.running_var\", \"aux1.conv.conv.weight\", \"aux1.conv.bn.weight\", \"aux1.conv.bn.bias\", \"aux1.conv.bn.running_mean\", \"aux1.conv.bn.running_var\", \"aux1.fc1.weight\", \"aux1.fc1.bias\", \"aux1.fc2.weight\", \"aux1.fc2.bias\", \"aux2.conv.conv.weight\", \"aux2.conv.bn.weight\", \"aux2.conv.bn.bias\", \"aux2.conv.bn.running_mean\", \"aux2.conv.bn.running_var\", \"aux2.fc1.weight\", \"aux2.fc1.bias\", \"aux2.fc2.weight\", \"aux2.fc2.bias\", \"fc.weight\", \"fc.bias\". \n\tUnexpected key(s) in state_dict: \"googlenet\". ",
     "output_type": "error",
     "traceback": [
      "\u001b[0;31m---------------------------------------------------------------------------\u001b[0m",
      "\u001b[0;31mRuntimeError\u001b[0m                              Traceback (most recent call last)",
      "\u001b[0;32m<ipython-input-4-1bf5e5bc028d>\u001b[0m in \u001b[0;36m<module>\u001b[0;34m\u001b[0m\n\u001b[1;32m     32\u001b[0m \u001b[0;34m\u001b[0m\u001b[0m\n\u001b[1;32m     33\u001b[0m         \u001b[0;32mreturn\u001b[0m \u001b[0mx\u001b[0m\u001b[0;34m\u001b[0m\u001b[0;34m\u001b[0m\u001b[0m\n\u001b[0;32m---> 34\u001b[0;31m \u001b[0mbackbone\u001b[0m \u001b[0;34m=\u001b[0m \u001b[0mGoogleFeatures\u001b[0m\u001b[0;34m(\u001b[0m\u001b[0;34m)\u001b[0m\u001b[0;34m\u001b[0m\u001b[0;34m\u001b[0m\u001b[0m\n\u001b[0m\u001b[1;32m     35\u001b[0m \u001b[0mbackbone\u001b[0m\u001b[0;34m.\u001b[0m\u001b[0mout_channels\u001b[0m \u001b[0;34m=\u001b[0m \u001b[0;36m192\u001b[0m\u001b[0;34m\u001b[0m\u001b[0;34m\u001b[0m\u001b[0m\n",
      "\u001b[0;32m<ipython-input-4-1bf5e5bc028d>\u001b[0m in \u001b[0;36m__init__\u001b[0;34m(self)\u001b[0m\n\u001b[1;32m      2\u001b[0m     \u001b[0;32mdef\u001b[0m \u001b[0m__init__\u001b[0m\u001b[0;34m(\u001b[0m\u001b[0mself\u001b[0m\u001b[0;34m)\u001b[0m\u001b[0;34m:\u001b[0m\u001b[0;34m\u001b[0m\u001b[0;34m\u001b[0m\u001b[0m\n\u001b[1;32m      3\u001b[0m         \u001b[0msuper\u001b[0m\u001b[0;34m(\u001b[0m\u001b[0mGoogleFeatures\u001b[0m\u001b[0;34m,\u001b[0m \u001b[0mself\u001b[0m\u001b[0;34m)\u001b[0m\u001b[0;34m.\u001b[0m\u001b[0m__init__\u001b[0m\u001b[0;34m(\u001b[0m\u001b[0;34m)\u001b[0m\u001b[0;34m\u001b[0m\u001b[0;34m\u001b[0m\u001b[0m\n\u001b[0;32m----> 4\u001b[0;31m         \u001b[0mbase_model\u001b[0m \u001b[0;34m=\u001b[0m  \u001b[0mgooglenet\u001b[0m\u001b[0;34m(\u001b[0m\u001b[0mpretrained\u001b[0m\u001b[0;34m=\u001b[0m\u001b[0;32mTrue\u001b[0m\u001b[0;34m)\u001b[0m\u001b[0;34m\u001b[0m\u001b[0;34m\u001b[0m\u001b[0m\n\u001b[0m\u001b[1;32m      5\u001b[0m \u001b[0;34m\u001b[0m\u001b[0m\n\u001b[1;32m      6\u001b[0m         self.seq1 = nn.Sequential(base_model.conv1,\n",
      "\u001b[0;32m<ipython-input-3-35a53c1b610c>\u001b[0m in \u001b[0;36mgooglenet\u001b[0;34m(pretrained, **kwargs)\u001b[0m\n\u001b[1;32m     47\u001b[0m         \u001b[0mmodel\u001b[0m \u001b[0;34m=\u001b[0m \u001b[0mGoogLeNet\u001b[0m\u001b[0;34m(\u001b[0m\u001b[0;34m**\u001b[0m\u001b[0mkwargs\u001b[0m\u001b[0;34m)\u001b[0m\u001b[0;34m\u001b[0m\u001b[0;34m\u001b[0m\u001b[0m\n\u001b[1;32m     48\u001b[0m         \u001b[0mstate_dict\u001b[0m \u001b[0;34m=\u001b[0m \u001b[0mmodel_urls\u001b[0m\u001b[0;34m\u001b[0m\u001b[0;34m\u001b[0m\u001b[0m\n\u001b[0;32m---> 49\u001b[0;31m         \u001b[0mmodel\u001b[0m\u001b[0;34m.\u001b[0m\u001b[0mload_state_dict\u001b[0m\u001b[0;34m(\u001b[0m\u001b[0mstate_dict\u001b[0m\u001b[0;34m)\u001b[0m\u001b[0;34m\u001b[0m\u001b[0;34m\u001b[0m\u001b[0m\n\u001b[0m\u001b[1;32m     50\u001b[0m         \u001b[0;32mif\u001b[0m \u001b[0;32mnot\u001b[0m \u001b[0moriginal_aux_logits\u001b[0m\u001b[0;34m:\u001b[0m\u001b[0;34m\u001b[0m\u001b[0;34m\u001b[0m\u001b[0m\n\u001b[1;32m     51\u001b[0m             \u001b[0mmodel\u001b[0m\u001b[0;34m.\u001b[0m\u001b[0maux_logits\u001b[0m \u001b[0;34m=\u001b[0m \u001b[0;32mFalse\u001b[0m\u001b[0;34m\u001b[0m\u001b[0;34m\u001b[0m\u001b[0m\n",
      "\u001b[0;32m/opt/conda/lib/python3.7/site-packages/torch/nn/modules/module.py\u001b[0m in \u001b[0;36mload_state_dict\u001b[0;34m(self, state_dict, strict)\u001b[0m\n\u001b[1;32m    845\u001b[0m         \u001b[0;32mif\u001b[0m \u001b[0mlen\u001b[0m\u001b[0;34m(\u001b[0m\u001b[0merror_msgs\u001b[0m\u001b[0;34m)\u001b[0m \u001b[0;34m>\u001b[0m \u001b[0;36m0\u001b[0m\u001b[0;34m:\u001b[0m\u001b[0;34m\u001b[0m\u001b[0;34m\u001b[0m\u001b[0m\n\u001b[1;32m    846\u001b[0m             raise RuntimeError('Error(s) in loading state_dict for {}:\\n\\t{}'.format(\n\u001b[0;32m--> 847\u001b[0;31m                                self.__class__.__name__, \"\\n\\t\".join(error_msgs)))\n\u001b[0m\u001b[1;32m    848\u001b[0m         \u001b[0;32mreturn\u001b[0m \u001b[0m_IncompatibleKeys\u001b[0m\u001b[0;34m(\u001b[0m\u001b[0mmissing_keys\u001b[0m\u001b[0;34m,\u001b[0m \u001b[0munexpected_keys\u001b[0m\u001b[0;34m)\u001b[0m\u001b[0;34m\u001b[0m\u001b[0;34m\u001b[0m\u001b[0m\n\u001b[1;32m    849\u001b[0m \u001b[0;34m\u001b[0m\u001b[0m\n",
      "\u001b[0;31mRuntimeError\u001b[0m: Error(s) in loading state_dict for GoogLeNet:\n\tMissing key(s) in state_dict: \"conv1.conv.weight\", \"conv1.bn.weight\", \"conv1.bn.bias\", \"conv1.bn.running_mean\", \"conv1.bn.running_var\", \"conv2.conv.weight\", \"conv2.bn.weight\", \"conv2.bn.bias\", \"conv2.bn.running_mean\", \"conv2.bn.running_var\", \"conv3.conv.weight\", \"conv3.bn.weight\", \"conv3.bn.bias\", \"conv3.bn.running_mean\", \"conv3.bn.running_var\", \"inception3a.branch1.conv.weight\", \"inception3a.branch1.bn.weight\", \"inception3a.branch1.bn.bias\", \"inception3a.branch1.bn.running_mean\", \"inception3a.branch1.bn.running_var\", \"inception3a.branch2.0.conv.weight\", \"inception3a.branch2.0.bn.weight\", \"inception3a.branch2.0.bn.bias\", \"inception3a.branch2.0.bn.running_mean\", \"inception3a.branch2.0.bn.running_var\", \"inception3a.branch2.1.conv.weight\", \"inception3a.branch2.1.bn.weight\", \"inception3a.branch2.1.bn.bias\", \"inception3a.branch2.1.bn.running_mean\", \"inception3a.branch2.1.bn.running_var\", \"inception3a.branch3.0.conv.weight\", \"inception3a.branch3.0.bn.weight\", \"inception3a.branch3.0.bn.bias\", \"inception3a.branch3.0.bn.running_mean\", \"inception3a.branch3.0.bn.running_var\", \"inception3a.branch3.1.conv.weight\", \"inception3a.branch3.1.bn.weight\", \"inception3a.branch3.1.bn.bias\", \"inception3a.branch3.1.bn.running_mean\", \"inception3a.branch3.1.bn.running_var\", \"inception3a.branch4.1.conv.weight\", \"inception3a.branch4.1.bn.weight\", \"inception3a.branch4.1.bn.bias\", \"inception3a.branch4.1.bn.running_mean\", \"inception3a.branch4.1.bn.running_var\", \"inception3b.branch1.conv.weight\", \"inception3b.branch1.bn.weight\", \"inception3b.branch1.bn.bias\", \"inception3b.branch1.bn.running_mean\", \"inception3b.branch1.bn.running_var\", \"inception3b.branch2.0.conv.weight\", \"inception3b.branch2.0.bn.weight\", \"inception3b.branch2.0.bn.bias\", \"inception3b.branch2.0.bn.running_mean\", \"inception3b.branch2.0.bn.running_var\", \"inception3b.branch2.1.conv.weight\", \"inception3b.branch2.1.bn.weight\", \"inception3b.branch2.1.bn.bias\", \"inception3b.branch2.1.bn.running_mean\", \"inception3b.branch2.1.bn.running_var\", \"inception3b.branch3.0.conv.weight\", \"inception3b.branch3.0.bn.weight\", \"inception3b.branch3.0.bn.bias\", \"inception3b.branch3.0.bn.running_mean\", \"inception3b.branch3.0.bn.running_var\", \"inception3b.branch3.1.conv.weight\", \"inception3b.branch3.1.bn.weight\", \"inception3b.branch3.1.bn.bias\", \"inception3b.branch3.1.bn.running_mean\", \"inception3b.branch3.1.bn.running_var\", \"inception3b.branch4.1.conv.weight\", \"inception3b.branch4.1.bn.weight\", \"inception3b.branch4.1.bn.bias\", \"inception3b.branch4.1.bn.running_mean\", \"inception3b.branch4.1.bn.running_var\", \"inception4a.branch1.conv.weight\", \"inception4a.branch1.bn.weight\", \"inception4a.branch1.bn.bias\", \"inception4a.branch1.bn.running_mean\", \"inception4a.branch1.bn.running_var\", \"inception4a.branch2.0.conv.weight\", \"inception4a.branch2.0.bn.weight\", \"inception4a.branch2.0.bn.bias\", \"inception4a.branch2.0.bn.running_mean\", \"inception4a.branch2.0.bn.running_var\", \"inception4a.branch2.1.conv.weight\", \"inception4a.branch2.1.bn.weight\", \"inception4a.branch2.1.bn.bias\", \"inception4a.branch2.1.bn.running_mean\", \"inception4a.branch2.1.bn.running_var\", \"inception4a.branch3.0.conv.weight\", \"inception4a.branch3.0.bn.weight\", \"inception4a.branch3.0.bn.bias\", \"inception4a.branch3.0.bn.running_mean\", \"inception4a.branch3.0.bn.running_var\", \"inception4a.branch3.1.conv.weight\", \"inception4a.branch3.1.bn.weight\", \"inception4a.branch3.1.bn.bias\", \"inception4a.branch3.1.bn.running_mean\", \"inception4a.branch3.1.bn.running_var\", \"inception4a.branch4.1.conv.weight\", \"inception4a.branch4.1.bn.weight\", \"inception4a.branch4.1.bn.bias\", \"inception4a.branch4.1.bn.running_mean\", \"inception4a.branch4.1.bn.running_var\", \"inception4b.branch1.conv.weight\", \"inception4b.branch1.bn.weight\", \"inception4b.branch1.bn.bias\", \"inception4b.branch1.bn.running_mean\", \"inception4b.branch1.bn.running_var\", \"inception4b.branch2.0.conv.weight\", \"inception4b.branch2.0.bn.weight\", \"inception4b.branch2.0.bn.bias\", \"inception4b.branch2.0.bn.running_mean\", \"inception4b.branch2.0.bn.running_var\", \"inception4b.branch2.1.conv.weight\", \"inception4b.branch2.1.bn.weight\", \"inception4b.branch2.1.bn.bias\", \"inception4b.branch2.1.bn.running_mean\", \"inception4b.branch2.1.bn.running_var\", \"inception4b.branch3.0.conv.weight\", \"inception4b.branch3.0.bn.weight\", \"inception4b.branch3.0.bn.bias\", \"inception4b.branch3.0.bn.running_mean\", \"inception4b.branch3.0.bn.running_var\", \"inception4b.branch3.1.conv.weight\", \"inception4b.branch3.1.bn.weight\", \"inception4b.branch3.1.bn.bias\", \"inception4b.branch3.1.bn.running_mean\", \"inception4b.branch3.1.bn.running_var\", \"inception4b.branch4.1.conv.weight\", \"inception4b.branch4.1.bn.weight\", \"inception4b.branch4.1.bn.bias\", \"inception4b.branch4.1.bn.running_mean\", \"inception4b.branch4.1.bn.running_var\", \"inception4c.branch1.conv.weight\", \"inception4c.branch1.bn.weight\", \"inception4c.branch1.bn.bias\", \"inception4c.branch1.bn.running_mean\", \"inception4c.branch1.bn.running_var\", \"inception4c.branch2.0.conv.weight\", \"inception4c.branch2.0.bn.weight\", \"inception4c.branch2.0.bn.bias\", \"inception4c.branch2.0.bn.running_mean\", \"inception4c.branch2.0.bn.running_var\", \"inception4c.branch2.1.conv.weight\", \"inception4c.branch2.1.bn.weight\", \"inception4c.branch2.1.bn.bias\", \"inception4c.branch2.1.bn.running_mean\", \"inception4c.branch2.1.bn.running_var\", \"inception4c.branch3.0.conv.weight\", \"inception4c.branch3.0.bn.weight\", \"inception4c.branch3.0.bn.bias\", \"inception4c.branch3.0.bn.running_mean\", \"inception4c.branch3.0.bn.running_var\", \"inception4c.branch3.1.conv.weight\", \"inception4c.branch3.1.bn.weight\", \"inception4c.branch3.1.bn.bias\", \"inception4c.branch3.1.bn.running_mean\", \"inception4c.branch3.1.bn.running_var\", \"inception4c.branch4.1.conv.weight\", \"inception4c.branch4.1.bn.weight\", \"inception4c.branch4.1.bn.bias\", \"inception4c.branch4.1.bn.running_mean\", \"inception4c.branch4.1.bn.running_var\", \"inception4d.branch1.conv.weight\", \"inception4d.branch1.bn.weight\", \"inception4d.branch1.bn.bias\", \"inception4d.branch1.bn.running_mean\", \"inception4d.branch1.bn.running_var\", \"inception4d.branch2.0.conv.weight\", \"inception4d.branch2.0.bn.weight\", \"inception4d.branch2.0.bn.bias\", \"inception4d.branch2.0.bn.running_mean\", \"inception4d.branch2.0.bn.running_var\", \"inception4d.branch2.1.conv.weight\", \"inception4d.branch2.1.bn.weight\", \"inception4d.branch2.1.bn.bias\", \"inception4d.branch2.1.bn.running_mean\", \"inception4d.branch2.1.bn.running_var\", \"inception4d.branch3.0.conv.weight\", \"inception4d.branch3.0.bn.weight\", \"inception4d.branch3.0.bn.bias\", \"inception4d.branch3.0.bn.running_mean\", \"inception4d.branch3.0.bn.running_var\", \"inception4d.branch3.1.conv.weight\", \"inception4d.branch3.1.bn.weight\", \"inception4d.branch3.1.bn.bias\", \"inception4d.branch3.1.bn.running_mean\", \"inception4d.branch3.1.bn.running_var\", \"inception4d.branch4.1.conv.weight\", \"inception4d.branch4.1.bn.weight\", \"inception4d.branch4.1.bn.bias\", \"inception4d.branch4.1.bn.running_mean\", \"inception4d.branch4.1.bn.running_var\", \"inception4e.branch1.conv.weight\", \"inception4e.branch1.bn.weight\", \"inception4e.branch1.bn.bias\", \"inception4e.branch1.bn.running_mean\", \"inception4e.branch1.bn.running_var\", \"inception4e.branch2.0.conv.weight\", \"inception4e.branch2.0.bn.weight\", \"inception4e.branch2.0.bn.bias\", \"inception4e.branch2.0.bn.running_mean\", \"inception4e.branch2.0.bn.running_var\", \"inception4e.branch2.1.conv.weight\", \"inception4e.branch2.1.bn.weight\", \"inception4e.branch2.1.bn.bias\", \"inception4e.branch2.1.bn.running_mean\", \"inception4e.branch2.1.bn.running_var\", \"inception4e.branch3.0.conv.weight\", \"inception4e.branch3.0.bn.weight\", \"inception4e.branch3.0.bn.bias\", \"inception4e.branch3.0.bn.running_mean\", \"inception4e.branch3.0.bn.running_var\", \"inception4e.branch3.1.conv.weight\", \"inception4e.branch3.1.bn.weight\", \"inception4e.branch3.1.bn.bias\", \"inception4e.branch3.1.bn.running_mean\", \"inception4e.branch3.1.bn.running_var\", \"inception4e.branch4.1.conv.weight\", \"inception4e.branch4.1.bn.weight\", \"inception4e.branch4.1.bn.bias\", \"inception4e.branch4.1.bn.running_mean\", \"inception4e.branch4.1.bn.running_var\", \"inception5a.branch1.conv.weight\", \"inception5a.branch1.bn.weight\", \"inception5a.branch1.bn.bias\", \"inception5a.branch1.bn.running_mean\", \"inception5a.branch1.bn.running_var\", \"inception5a.branch2.0.conv.weight\", \"inception5a.branch2.0.bn.weight\", \"inception5a.branch2.0.bn.bias\", \"inception5a.branch2.0.bn.running_mean\", \"inception5a.branch2.0.bn.running_var\", \"inception5a.branch2.1.conv.weight\", \"inception5a.branch2.1.bn.weight\", \"inception5a.branch2.1.bn.bias\", \"inception5a.branch2.1.bn.running_mean\", \"inception5a.branch2.1.bn.running_var\", \"inception5a.branch3.0.conv.weight\", \"inception5a.branch3.0.bn.weight\", \"inception5a.branch3.0.bn.bias\", \"inception5a.branch3.0.bn.running_mean\", \"inception5a.branch3.0.bn.running_var\", \"inception5a.branch3.1.conv.weight\", \"inception5a.branch3.1.bn.weight\", \"inception5a.branch3.1.bn.bias\", \"inception5a.branch3.1.bn.running_mean\", \"inception5a.branch3.1.bn.running_var\", \"inception5a.branch4.1.conv.weight\", \"inception5a.branch4.1.bn.weight\", \"inception5a.branch4.1.bn.bias\", \"inception5a.branch4.1.bn.running_mean\", \"inception5a.branch4.1.bn.running_var\", \"inception5b.branch1.conv.weight\", \"inception5b.branch1.bn.weight\", \"inception5b.branch1.bn.bias\", \"inception5b.branch1.bn.running_mean\", \"inception5b.branch1.bn.running_var\", \"inception5b.branch2.0.conv.weight\", \"inception5b.branch2.0.bn.weight\", \"inception5b.branch2.0.bn.bias\", \"inception5b.branch2.0.bn.running_mean\", \"inception5b.branch2.0.bn.running_var\", \"inception5b.branch2.1.conv.weight\", \"inception5b.branch2.1.bn.weight\", \"inception5b.branch2.1.bn.bias\", \"inception5b.branch2.1.bn.running_mean\", \"inception5b.branch2.1.bn.running_var\", \"inception5b.branch3.0.conv.weight\", \"inception5b.branch3.0.bn.weight\", \"inception5b.branch3.0.bn.bias\", \"inception5b.branch3.0.bn.running_mean\", \"inception5b.branch3.0.bn.running_var\", \"inception5b.branch3.1.conv.weight\", \"inception5b.branch3.1.bn.weight\", \"inception5b.branch3.1.bn.bias\", \"inception5b.branch3.1.bn.running_mean\", \"inception5b.branch3.1.bn.running_var\", \"inception5b.branch4.1.conv.weight\", \"inception5b.branch4.1.bn.weight\", \"inception5b.branch4.1.bn.bias\", \"inception5b.branch4.1.bn.running_mean\", \"inception5b.branch4.1.bn.running_var\", \"aux1.conv.conv.weight\", \"aux1.conv.bn.weight\", \"aux1.conv.bn.bias\", \"aux1.conv.bn.running_mean\", \"aux1.conv.bn.running_var\", \"aux1.fc1.weight\", \"aux1.fc1.bias\", \"aux1.fc2.weight\", \"aux1.fc2.bias\", \"aux2.conv.conv.weight\", \"aux2.conv.bn.weight\", \"aux2.conv.bn.bias\", \"aux2.conv.bn.running_mean\", \"aux2.conv.bn.running_var\", \"aux2.fc1.weight\", \"aux2.fc1.bias\", \"aux2.fc2.weight\", \"aux2.fc2.bias\", \"fc.weight\", \"fc.bias\". \n\tUnexpected key(s) in state_dict: \"googlenet\". "
     ]
    }
   ],
   "source": [
    "class GoogleFeatures(nn.Module):\n",
    "    def __init__(self):\n",
    "        super(GoogleFeatures, self).__init__()\n",
    "        base_model =  googlenet(pretrained=True)\n",
    "\n",
    "        self.seq1 = nn.Sequential(base_model.conv1,\n",
    "                                  base_model.maxpool1,\n",
    "                                  base_model.conv2,\n",
    "                                  base_model.conv3,\n",
    "                                  base_model.maxpool2\n",
    "                                  )\n",
    "        self.seq2 = nn.Sequential(base_model.inception3a,\n",
    "                                  base_model.inception3b,\n",
    "                                  base_model.maxpool3,\n",
    "                                  base_model.inception4a,\n",
    "                                  base_model.aux1\n",
    "                                  )\n",
    "        self.seq3 = nn.Sequential(base_model.inception4b,\n",
    "                                  base_model.inception4c,\n",
    "                                  base_model.inception4d,\n",
    "                                  base_model.aux2\n",
    "                                  )\n",
    "        self.seq4 = nn.Sequential(base_model.inception4e,\n",
    "                                  base_model.maxpool4,\n",
    "                                  base_model.inception5a,\n",
    "                                  base_model.inception5b\n",
    "                                  )\n",
    "        self.out_channels = 192\n",
    "\n",
    "    def forward(self, x):\n",
    "        x = self.seq1(x)\n",
    "\n",
    "        return x\n",
    "backbone = GoogleFeatures()\n",
    "backbone.out_channels = 192"
   ]
  },
  {
   "cell_type": "code",
   "execution_count": 5,
   "metadata": {
    "execution": {
     "iopub.execute_input": "2020-08-11T06:59:43.675421Z",
     "iopub.status.busy": "2020-08-11T06:59:43.674283Z",
     "iopub.status.idle": "2020-08-11T06:59:43.677140Z",
     "shell.execute_reply": "2020-08-11T06:59:43.677703Z"
    },
    "papermill": {
     "duration": 0.034439,
     "end_time": "2020-08-11T06:59:43.677896",
     "exception": false,
     "start_time": "2020-08-11T06:59:43.643457",
     "status": "completed"
    },
    "tags": []
   },
   "outputs": [],
   "source": [
    "def fasterrcnn_google(pretrained=False, progress=True,\n",
    "                            num_classes=2, pretrained_backbone=True,\n",
    "                             trainable_backbone_layers=3, **kwargs):\n",
    "    assert trainable_backbone_layers <= 5 and trainable_backbone_layers >= 0\n",
    "    # dont freeze any layers if pretrained model or backbone is not used\n",
    "    if not (pretrained or pretrained_backbone):\n",
    "        trainable_backbone_layers = 5\n",
    "    if pretrained:\n",
    "        # no need to download the backbone if pretrained is set\n",
    "        pretrained_backbone = False\n",
    "    model = FasterRCNN(backbone, num_classes, **kwargs)\n",
    "    return model"
   ]
  },
  {
   "cell_type": "code",
   "execution_count": 6,
   "metadata": {
    "_cell_guid": "79c7e3d0-c299-4dcb-8224-4455121ee9b0",
    "_uuid": "d629ff2d2480ee46fbb7e2d37f6b5fab8052498a",
    "execution": {
     "iopub.execute_input": "2020-08-11T06:59:43.732071Z",
     "iopub.status.busy": "2020-08-11T06:59:43.731146Z",
     "iopub.status.idle": "2020-08-11T06:59:43.734436Z",
     "shell.execute_reply": "2020-08-11T06:59:43.733835Z"
    },
    "papermill": {
     "duration": 0.033048,
     "end_time": "2020-08-11T06:59:43.734571",
     "exception": false,
     "start_time": "2020-08-11T06:59:43.701523",
     "status": "completed"
    },
    "tags": []
   },
   "outputs": [],
   "source": [
    "def initialize_model():\n",
    "    model = fasterrcnn_google(pretrained=False)\n",
    "    in_features = model.roi_heads.box_predictor.cls_score.in_features\n",
    "    model.roi_heads.box_predictor = FastRCNNPredictor(in_features, 2)\n",
    "    return model"
   ]
  },
  {
   "cell_type": "code",
   "execution_count": 7,
   "metadata": {
    "execution": {
     "iopub.execute_input": "2020-08-11T06:59:43.816929Z",
     "iopub.status.busy": "2020-08-11T06:59:43.812784Z",
     "iopub.status.idle": "2020-08-11T06:59:43.822365Z",
     "shell.execute_reply": "2020-08-11T06:59:43.821614Z"
    },
    "papermill": {
     "duration": 0.064457,
     "end_time": "2020-08-11T06:59:43.822494",
     "exception": false,
     "start_time": "2020-08-11T06:59:43.758037",
     "status": "completed"
    },
    "tags": []
   },
   "outputs": [
    {
     "ename": "NameError",
     "evalue": "name 'backbone' is not defined",
     "output_type": "error",
     "traceback": [
      "\u001b[0;31m---------------------------------------------------------------------------\u001b[0m",
      "\u001b[0;31mNameError\u001b[0m                                 Traceback (most recent call last)",
      "\u001b[0;32m<ipython-input-7-751cd02055b2>\u001b[0m in \u001b[0;36m<module>\u001b[0;34m\u001b[0m\n\u001b[0;32m----> 1\u001b[0;31m \u001b[0mmodel\u001b[0m \u001b[0;34m=\u001b[0m \u001b[0minitialize_model\u001b[0m\u001b[0;34m(\u001b[0m\u001b[0;34m)\u001b[0m\u001b[0;34m\u001b[0m\u001b[0;34m\u001b[0m\u001b[0m\n\u001b[0m",
      "\u001b[0;32m<ipython-input-6-e4f315334779>\u001b[0m in \u001b[0;36minitialize_model\u001b[0;34m()\u001b[0m\n\u001b[1;32m      1\u001b[0m \u001b[0;32mdef\u001b[0m \u001b[0minitialize_model\u001b[0m\u001b[0;34m(\u001b[0m\u001b[0;34m)\u001b[0m\u001b[0;34m:\u001b[0m\u001b[0;34m\u001b[0m\u001b[0;34m\u001b[0m\u001b[0m\n\u001b[0;32m----> 2\u001b[0;31m     \u001b[0mmodel\u001b[0m \u001b[0;34m=\u001b[0m \u001b[0mfasterrcnn_google\u001b[0m\u001b[0;34m(\u001b[0m\u001b[0mpretrained\u001b[0m\u001b[0;34m=\u001b[0m\u001b[0;32mFalse\u001b[0m\u001b[0;34m)\u001b[0m\u001b[0;34m\u001b[0m\u001b[0;34m\u001b[0m\u001b[0m\n\u001b[0m\u001b[1;32m      3\u001b[0m     \u001b[0min_features\u001b[0m \u001b[0;34m=\u001b[0m \u001b[0mmodel\u001b[0m\u001b[0;34m.\u001b[0m\u001b[0mroi_heads\u001b[0m\u001b[0;34m.\u001b[0m\u001b[0mbox_predictor\u001b[0m\u001b[0;34m.\u001b[0m\u001b[0mcls_score\u001b[0m\u001b[0;34m.\u001b[0m\u001b[0min_features\u001b[0m\u001b[0;34m\u001b[0m\u001b[0;34m\u001b[0m\u001b[0m\n\u001b[1;32m      4\u001b[0m     \u001b[0mmodel\u001b[0m\u001b[0;34m.\u001b[0m\u001b[0mroi_heads\u001b[0m\u001b[0;34m.\u001b[0m\u001b[0mbox_predictor\u001b[0m \u001b[0;34m=\u001b[0m \u001b[0mFastRCNNPredictor\u001b[0m\u001b[0;34m(\u001b[0m\u001b[0min_features\u001b[0m\u001b[0;34m,\u001b[0m \u001b[0;36m2\u001b[0m\u001b[0;34m)\u001b[0m\u001b[0;34m\u001b[0m\u001b[0;34m\u001b[0m\u001b[0m\n\u001b[1;32m      5\u001b[0m     \u001b[0;32mreturn\u001b[0m \u001b[0mmodel\u001b[0m\u001b[0;34m\u001b[0m\u001b[0;34m\u001b[0m\u001b[0m\n",
      "\u001b[0;32m<ipython-input-5-55049dc78619>\u001b[0m in \u001b[0;36mfasterrcnn_google\u001b[0;34m(pretrained, progress, num_classes, pretrained_backbone, trainable_backbone_layers, **kwargs)\u001b[0m\n\u001b[1;32m      9\u001b[0m         \u001b[0;31m# no need to download the backbone if pretrained is set\u001b[0m\u001b[0;34m\u001b[0m\u001b[0;34m\u001b[0m\u001b[0;34m\u001b[0m\u001b[0m\n\u001b[1;32m     10\u001b[0m         \u001b[0mpretrained_backbone\u001b[0m \u001b[0;34m=\u001b[0m \u001b[0;32mFalse\u001b[0m\u001b[0;34m\u001b[0m\u001b[0;34m\u001b[0m\u001b[0m\n\u001b[0;32m---> 11\u001b[0;31m     \u001b[0mmodel\u001b[0m \u001b[0;34m=\u001b[0m \u001b[0mFasterRCNN\u001b[0m\u001b[0;34m(\u001b[0m\u001b[0mbackbone\u001b[0m\u001b[0;34m,\u001b[0m \u001b[0mnum_classes\u001b[0m\u001b[0;34m,\u001b[0m \u001b[0;34m**\u001b[0m\u001b[0mkwargs\u001b[0m\u001b[0;34m)\u001b[0m\u001b[0;34m\u001b[0m\u001b[0;34m\u001b[0m\u001b[0m\n\u001b[0m\u001b[1;32m     12\u001b[0m     \u001b[0;32mreturn\u001b[0m \u001b[0mmodel\u001b[0m\u001b[0;34m\u001b[0m\u001b[0;34m\u001b[0m\u001b[0m\n",
      "\u001b[0;31mNameError\u001b[0m: name 'backbone' is not defined"
     ]
    }
   ],
   "source": [
    "model = initialize_model()"
   ]
  },
  {
   "cell_type": "code",
   "execution_count": 8,
   "metadata": {
    "execution": {
     "iopub.execute_input": "2020-08-11T06:59:43.876773Z",
     "iopub.status.busy": "2020-08-11T06:59:43.875655Z",
     "iopub.status.idle": "2020-08-11T06:59:43.878799Z",
     "shell.execute_reply": "2020-08-11T06:59:43.878147Z"
    },
    "papermill": {
     "duration": 0.032241,
     "end_time": "2020-08-11T06:59:43.878930",
     "exception": false,
     "start_time": "2020-08-11T06:59:43.846689",
     "status": "completed"
    },
    "tags": []
   },
   "outputs": [],
   "source": [
    "save_model_path = \"../input/fourthpth\""
   ]
  },
  {
   "cell_type": "code",
   "execution_count": 9,
   "metadata": {
    "execution": {
     "iopub.execute_input": "2020-08-11T06:59:43.946678Z",
     "iopub.status.busy": "2020-08-11T06:59:43.945791Z",
     "iopub.status.idle": "2020-08-11T06:59:43.950521Z",
     "shell.execute_reply": "2020-08-11T06:59:43.951112Z"
    },
    "papermill": {
     "duration": 0.047918,
     "end_time": "2020-08-11T06:59:43.951288",
     "exception": false,
     "start_time": "2020-08-11T06:59:43.903370",
     "status": "completed"
    },
    "tags": []
   },
   "outputs": [
    {
     "ename": "NameError",
     "evalue": "name 'model' is not defined",
     "output_type": "error",
     "traceback": [
      "\u001b[0;31m---------------------------------------------------------------------------\u001b[0m",
      "\u001b[0;31mNameError\u001b[0m                                 Traceback (most recent call last)",
      "\u001b[0;32m<ipython-input-9-8fc6a2a6804d>\u001b[0m in \u001b[0;36m<module>\u001b[0;34m\u001b[0m\n\u001b[0;32m----> 1\u001b[0;31m \u001b[0mmodel\u001b[0m\u001b[0;34m.\u001b[0m\u001b[0mload_state_dict\u001b[0m\u001b[0;34m(\u001b[0m\u001b[0mtorch\u001b[0m\u001b[0;34m.\u001b[0m\u001b[0mload\u001b[0m\u001b[0;34m(\u001b[0m\u001b[0mos\u001b[0m\u001b[0;34m.\u001b[0m\u001b[0mpath\u001b[0m\u001b[0;34m.\u001b[0m\u001b[0mjoin\u001b[0m\u001b[0;34m(\u001b[0m\u001b[0msave_model_path\u001b[0m\u001b[0;34m,\u001b[0m \u001b[0;34mf\"best_model_epoch4.pth\"\u001b[0m\u001b[0;34m)\u001b[0m\u001b[0;34m)\u001b[0m\u001b[0;34m)\u001b[0m\u001b[0;34m\u001b[0m\u001b[0;34m\u001b[0m\u001b[0m\n\u001b[0m\u001b[1;32m      2\u001b[0m \u001b[0mmodel\u001b[0m\u001b[0;34m.\u001b[0m\u001b[0mto\u001b[0m\u001b[0;34m(\u001b[0m\u001b[0mdevice\u001b[0m\u001b[0;34m)\u001b[0m\u001b[0;34m\u001b[0m\u001b[0;34m\u001b[0m\u001b[0m\n\u001b[1;32m      3\u001b[0m \u001b[0mmodel\u001b[0m\u001b[0;34m.\u001b[0m\u001b[0meval\u001b[0m\u001b[0;34m(\u001b[0m\u001b[0;34m)\u001b[0m\u001b[0;34m\u001b[0m\u001b[0;34m\u001b[0m\u001b[0m\n",
      "\u001b[0;31mNameError\u001b[0m: name 'model' is not defined"
     ]
    }
   ],
   "source": [
    "model.load_state_dict(torch.load(os.path.join(save_model_path, f\"best_model_epoch4.pth\")))\n",
    "model.to(device)\n",
    "model.eval()"
   ]
  },
  {
   "cell_type": "code",
   "execution_count": 10,
   "metadata": {
    "execution": {
     "iopub.execute_input": "2020-08-11T06:59:44.010674Z",
     "iopub.status.busy": "2020-08-11T06:59:44.009846Z",
     "iopub.status.idle": "2020-08-11T06:59:44.013282Z",
     "shell.execute_reply": "2020-08-11T06:59:44.012628Z"
    },
    "papermill": {
     "duration": 0.036108,
     "end_time": "2020-08-11T06:59:44.013407",
     "exception": false,
     "start_time": "2020-08-11T06:59:43.977299",
     "status": "completed"
    },
    "tags": []
   },
   "outputs": [],
   "source": [
    "@dataclass\n",
    "class DatasetArguments:\n",
    "    data_dir: Path\n",
    "    images_lists_dict: dict\n",
    "    labels_csv_file_name: str\n",
    "\n",
    "@dataclass\n",
    "class DataLoaderArguments:\n",
    "    batch_size: int\n",
    "    num_workers: int\n",
    "    dataset_arguments: DatasetArguments"
   ]
  },
  {
   "cell_type": "code",
   "execution_count": 11,
   "metadata": {
    "execution": {
     "iopub.execute_input": "2020-08-11T06:59:44.068850Z",
     "iopub.status.busy": "2020-08-11T06:59:44.067700Z",
     "iopub.status.idle": "2020-08-11T06:59:44.071149Z",
     "shell.execute_reply": "2020-08-11T06:59:44.070332Z"
    },
    "papermill": {
     "duration": 0.033042,
     "end_time": "2020-08-11T06:59:44.071280",
     "exception": false,
     "start_time": "2020-08-11T06:59:44.038238",
     "status": "completed"
    },
    "tags": []
   },
   "outputs": [],
   "source": [
    "phase=\"test\""
   ]
  },
  {
   "cell_type": "code",
   "execution_count": 12,
   "metadata": {
    "execution": {
     "iopub.execute_input": "2020-08-11T06:59:44.128401Z",
     "iopub.status.busy": "2020-08-11T06:59:44.127369Z",
     "iopub.status.idle": "2020-08-11T06:59:44.130410Z",
     "shell.execute_reply": "2020-08-11T06:59:44.129640Z"
    },
    "papermill": {
     "duration": 0.03419,
     "end_time": "2020-08-11T06:59:44.130548",
     "exception": false,
     "start_time": "2020-08-11T06:59:44.096358",
     "status": "completed"
    },
    "tags": []
   },
   "outputs": [],
   "source": [
    "root_data_dir = Path(\"/kaggle/input/global-wheat-detection/\")\n",
    "unlabeled_generated_images_path = Path(f\"/kaggle/input/global-wheat-detection/{phase}/\")"
   ]
  },
  {
   "cell_type": "code",
   "execution_count": 13,
   "metadata": {
    "execution": {
     "iopub.execute_input": "2020-08-11T06:59:44.188352Z",
     "iopub.status.busy": "2020-08-11T06:59:44.187532Z",
     "iopub.status.idle": "2020-08-11T06:59:44.193568Z",
     "shell.execute_reply": "2020-08-11T06:59:44.192839Z"
    },
    "papermill": {
     "duration": 0.037682,
     "end_time": "2020-08-11T06:59:44.193730",
     "exception": false,
     "start_time": "2020-08-11T06:59:44.156048",
     "status": "completed"
    },
    "tags": []
   },
   "outputs": [],
   "source": [
    "def get_images_file_names(directory):\n",
    "    _, _, files = next(os.walk(directory))\n",
    "    return files\n",
    "test_file_names = get_images_file_names(unlabeled_generated_images_path)\n",
    "test_file_names = [x.split(\".\")[0] for x in test_file_names]"
   ]
  },
  {
   "cell_type": "code",
   "execution_count": 14,
   "metadata": {
    "execution": {
     "iopub.execute_input": "2020-08-11T06:59:44.251245Z",
     "iopub.status.busy": "2020-08-11T06:59:44.250279Z",
     "iopub.status.idle": "2020-08-11T06:59:44.253545Z",
     "shell.execute_reply": "2020-08-11T06:59:44.252944Z"
    },
    "papermill": {
     "duration": 0.034301,
     "end_time": "2020-08-11T06:59:44.253694",
     "exception": false,
     "start_time": "2020-08-11T06:59:44.219393",
     "status": "completed"
    },
    "tags": []
   },
   "outputs": [],
   "source": [
    "images_lists_dict = {\n",
    "    \"test\": test_file_names\n",
    "}"
   ]
  },
  {
   "cell_type": "code",
   "execution_count": 15,
   "metadata": {
    "execution": {
     "iopub.execute_input": "2020-08-11T06:59:44.313029Z",
     "iopub.status.busy": "2020-08-11T06:59:44.312082Z",
     "iopub.status.idle": "2020-08-11T06:59:44.315085Z",
     "shell.execute_reply": "2020-08-11T06:59:44.314330Z"
    },
    "papermill": {
     "duration": 0.035517,
     "end_time": "2020-08-11T06:59:44.315212",
     "exception": false,
     "start_time": "2020-08-11T06:59:44.279695",
     "status": "completed"
    },
    "tags": []
   },
   "outputs": [],
   "source": [
    "prediction_dataset_arguments = DatasetArguments(\n",
    "    data_dir=root_data_dir,\n",
    "    images_lists_dict=images_lists_dict,\n",
    "    labels_csv_file_name=\"sample_submission.csv\",\n",
    ")\n",
    "predict_dataloaders_arguments = DataLoaderArguments(\n",
    "    batch_size=1,\n",
    "    num_workers=0,\n",
    "    dataset_arguments=prediction_dataset_arguments\n",
    ")"
   ]
  },
  {
   "cell_type": "code",
   "execution_count": 16,
   "metadata": {
    "execution": {
     "iopub.execute_input": "2020-08-11T06:59:44.374377Z",
     "iopub.status.busy": "2020-08-11T06:59:44.373305Z",
     "iopub.status.idle": "2020-08-11T06:59:44.376875Z",
     "shell.execute_reply": "2020-08-11T06:59:44.376229Z"
    },
    "papermill": {
     "duration": 0.035931,
     "end_time": "2020-08-11T06:59:44.377006",
     "exception": false,
     "start_time": "2020-08-11T06:59:44.341075",
     "status": "completed"
    },
    "tags": []
   },
   "outputs": [],
   "source": [
    "def transform_set():\n",
    "    transforms_dict = {\n",
    "        'test': get_test_transforms()\n",
    "    }\n",
    "    return transforms_dict\n",
    "\n",
    "\n",
    "def get_test_transforms():\n",
    "    return Compose(\n",
    "        [\n",
    "            ToTensorV2(p=1.0),\n",
    "        ]\n",
    "    )\n"
   ]
  },
  {
   "cell_type": "code",
   "execution_count": 17,
   "metadata": {
    "execution": {
     "iopub.execute_input": "2020-08-11T06:59:44.455441Z",
     "iopub.status.busy": "2020-08-11T06:59:44.454416Z",
     "iopub.status.idle": "2020-08-11T06:59:44.456872Z",
     "shell.execute_reply": "2020-08-11T06:59:44.457532Z"
    },
    "papermill": {
     "duration": 0.054641,
     "end_time": "2020-08-11T06:59:44.457724",
     "exception": false,
     "start_time": "2020-08-11T06:59:44.403083",
     "status": "completed"
    },
    "tags": []
   },
   "outputs": [],
   "source": [
    "class ObjectDetectionDataset(Dataset):\n",
    "    def __init__(self, images_root_directory, images_list, labels_csv_file_name, phase, transforms):\n",
    "        super(ObjectDetectionDataset).__init__()\n",
    "        self.images_root_directory = images_root_directory\n",
    "        self.phase = phase\n",
    "        self.transforms = transforms\n",
    "        self.images_list = images_list\n",
    "        if self.phase in [\"train\", \"val\"]:\n",
    "            self.labels_dataframe = pd.read_csv(os.path.join(images_root_directory, labels_csv_file_name))\n",
    "\n",
    "    def __getitem__(self, item):\n",
    "        sample = {\n",
    "            \"local_image_id\": None,\n",
    "            \"image_id\": None,\n",
    "            \"labels\": None,\n",
    "            \"boxes\": None,\n",
    "            \"area\": None,\n",
    "            \"iscrowd\": None\n",
    "        }\n",
    "\n",
    "        image_id = self.images_list[item]\n",
    "        image_path = os.path.join(self.images_root_directory,\n",
    "                                  \"train\" if self.phase in [\"train\", \"val\"] else \"test\",\n",
    "                                  image_id + \".jpg\")\n",
    "        image = cv2.imread(image_path)\n",
    "        image = cv2.cvtColor(image, cv2.COLOR_BGR2RGB).astype(np.float32)\n",
    "        image /= 255.0\n",
    "        sample[\"local_image_id\"] = image_id\n",
    "        sample[\"image_id\"] = torch.tensor([item])\n",
    "        if self.phase in [\"train\", \"val\"]:\n",
    "            boxes = self.labels_dataframe[self.labels_dataframe.image_id == image_id].bbox.values.tolist()\n",
    "            boxes = [eval(box_i) for box_i in boxes]\n",
    "            areas = _areas(boxes)\n",
    "            boxes = _adjust_boxes_format(boxes)\n",
    "\n",
    "            sample[\"labels\"] = torch.ones((len(boxes),), dtype=torch.int64)\n",
    "            sample[\"boxes\"] = torch.as_tensor(boxes, dtype=torch.float32)\n",
    "            sample[\"area\"] = torch.as_tensor(areas, dtype=torch.float32)\n",
    "            sample[\"iscrowd\"] = torch.zeros((len(boxes),), dtype=torch.int64)\n",
    "        if self.transforms is not None:\n",
    "            sample[\"image\"] = image\n",
    "            if self.phase in [\"train\", \"val\"]:\n",
    "                transformed_sample = self.transforms(image=sample[\"image\"],\n",
    "                                                     bboxes=sample[\"boxes\"],\n",
    "                                                     labels=sample[\"labels\"])\n",
    "                sample[\"boxes\"] = torch.as_tensor(transformed_sample[\"bboxes\"], dtype=torch.float32)\n",
    "            else:\n",
    "                transformed_sample = self.transforms(image=sample[\"image\"])\n",
    "            image = transformed_sample[\"image\"]\n",
    "            del sample[\"image\"]\n",
    "        return image, sample\n",
    "    def __len__(self):\n",
    "        return len(self.images_list)"
   ]
  },
  {
   "cell_type": "code",
   "execution_count": 18,
   "metadata": {
    "execution": {
     "iopub.execute_input": "2020-08-11T06:59:44.517248Z",
     "iopub.status.busy": "2020-08-11T06:59:44.516154Z",
     "iopub.status.idle": "2020-08-11T06:59:44.519581Z",
     "shell.execute_reply": "2020-08-11T06:59:44.518970Z"
    },
    "papermill": {
     "duration": 0.035668,
     "end_time": "2020-08-11T06:59:44.519710",
     "exception": false,
     "start_time": "2020-08-11T06:59:44.484042",
     "status": "completed"
    },
    "tags": []
   },
   "outputs": [],
   "source": [
    "def create_dataset(arguments):\n",
    "    dataset = ObjectDetectionDataset(arguments.data_dir,\n",
    "                                     arguments.images_lists_dict[arguments.phase],\n",
    "                                     arguments.labels_csv_file_name,\n",
    "                                     arguments.phase,\n",
    "                                     arguments.transforms)\n",
    "    return dataset"
   ]
  },
  {
   "cell_type": "code",
   "execution_count": 19,
   "metadata": {
    "execution": {
     "iopub.execute_input": "2020-08-11T06:59:44.582133Z",
     "iopub.status.busy": "2020-08-11T06:59:44.581307Z",
     "iopub.status.idle": "2020-08-11T06:59:44.584945Z",
     "shell.execute_reply": "2020-08-11T06:59:44.584191Z"
    },
    "papermill": {
     "duration": 0.039053,
     "end_time": "2020-08-11T06:59:44.585071",
     "exception": false,
     "start_time": "2020-08-11T06:59:44.546018",
     "status": "completed"
    },
    "tags": []
   },
   "outputs": [],
   "source": [
    "def create_prediction_dataloader(arguments, input_size):\n",
    "    data_transforms = transform_set()\n",
    "    batch_size = arguments.batch_size\n",
    "    num_workers = arguments.num_workers\n",
    "    arguments.dataset_arguments.phase = phase\n",
    "    arguments.dataset_arguments.transforms = data_transforms[\"test\"]\n",
    "    image_datasets = create_dataset(arguments.dataset_arguments)\n",
    "    dataloader = DataLoader(image_datasets, batch_size=batch_size,\n",
    "                            shuffle=False,\n",
    "                            pin_memory=True,\n",
    "                            num_workers=num_workers,\n",
    "                            collate_fn=collate_fn)\n",
    "    return dataloader\n",
    "\n",
    "\n",
    "def collate_fn(batch):\n",
    "    return tuple(zip(*batch))"
   ]
  },
  {
   "cell_type": "code",
   "execution_count": 20,
   "metadata": {
    "execution": {
     "iopub.execute_input": "2020-08-11T06:59:44.644779Z",
     "iopub.status.busy": "2020-08-11T06:59:44.643654Z",
     "iopub.status.idle": "2020-08-11T06:59:44.647144Z",
     "shell.execute_reply": "2020-08-11T06:59:44.646409Z"
    },
    "papermill": {
     "duration": 0.035393,
     "end_time": "2020-08-11T06:59:44.647272",
     "exception": false,
     "start_time": "2020-08-11T06:59:44.611879",
     "status": "completed"
    },
    "tags": []
   },
   "outputs": [],
   "source": [
    "dataloader = create_prediction_dataloader(predict_dataloaders_arguments, None)"
   ]
  },
  {
   "cell_type": "code",
   "execution_count": 21,
   "metadata": {
    "execution": {
     "iopub.execute_input": "2020-08-11T06:59:44.709437Z",
     "iopub.status.busy": "2020-08-11T06:59:44.708442Z",
     "iopub.status.idle": "2020-08-11T06:59:44.711832Z",
     "shell.execute_reply": "2020-08-11T06:59:44.711186Z"
    },
    "papermill": {
     "duration": 0.038106,
     "end_time": "2020-08-11T06:59:44.711969",
     "exception": false,
     "start_time": "2020-08-11T06:59:44.673863",
     "status": "completed"
    },
    "tags": []
   },
   "outputs": [],
   "source": [
    "detection_threshold=0.45\n",
    "def format_prediction_string(boxes, scores):\n",
    "    pred_strings = []\n",
    "    for j in zip(scores, boxes):\n",
    "        pred_strings.append(\"{0:.4f} {1} {2} {3} {4}\".format(j[0], j[1][0], j[1][1], j[1][2], j[1][3]))\n",
    "\n",
    "    return \" \".join(pred_strings)"
   ]
  },
  {
   "cell_type": "code",
   "execution_count": 22,
   "metadata": {
    "execution": {
     "iopub.execute_input": "2020-08-11T06:59:44.771144Z",
     "iopub.status.busy": "2020-08-11T06:59:44.770344Z",
     "iopub.status.idle": "2020-08-11T06:59:44.773924Z",
     "shell.execute_reply": "2020-08-11T06:59:44.773304Z"
    },
    "papermill": {
     "duration": 0.035224,
     "end_time": "2020-08-11T06:59:44.774053",
     "exception": false,
     "start_time": "2020-08-11T06:59:44.738829",
     "status": "completed"
    },
    "tags": []
   },
   "outputs": [],
   "source": [
    "results = []"
   ]
  },
  {
   "cell_type": "code",
   "execution_count": 23,
   "metadata": {
    "execution": {
     "iopub.execute_input": "2020-08-11T06:59:44.843443Z",
     "iopub.status.busy": "2020-08-11T06:59:44.842111Z",
     "iopub.status.idle": "2020-08-11T06:59:44.951179Z",
     "shell.execute_reply": "2020-08-11T06:59:44.950356Z"
    },
    "papermill": {
     "duration": 0.150258,
     "end_time": "2020-08-11T06:59:44.951316",
     "exception": false,
     "start_time": "2020-08-11T06:59:44.801058",
     "status": "completed"
    },
    "tags": []
   },
   "outputs": [
    {
     "ename": "AssertionError",
     "evalue": "Torch not compiled with CUDA enabled",
     "output_type": "error",
     "traceback": [
      "\u001b[0;31m---------------------------------------------------------------------------\u001b[0m",
      "\u001b[0;31mAssertionError\u001b[0m                            Traceback (most recent call last)",
      "\u001b[0;32m<ipython-input-23-5abf59d7db9f>\u001b[0m in \u001b[0;36m<module>\u001b[0;34m\u001b[0m\n\u001b[1;32m      1\u001b[0m \u001b[0;32mfor\u001b[0m \u001b[0mimages\u001b[0m\u001b[0;34m,\u001b[0m \u001b[0msample\u001b[0m \u001b[0;32min\u001b[0m \u001b[0mdataloader\u001b[0m\u001b[0;34m:\u001b[0m\u001b[0;34m\u001b[0m\u001b[0;34m\u001b[0m\u001b[0m\n\u001b[1;32m      2\u001b[0m     \u001b[0mimage_ids\u001b[0m \u001b[0;34m=\u001b[0m \u001b[0;34m[\u001b[0m\u001b[0mx\u001b[0m\u001b[0;34m[\u001b[0m\u001b[0;34m\"local_image_id\"\u001b[0m\u001b[0;34m]\u001b[0m \u001b[0;32mfor\u001b[0m \u001b[0mx\u001b[0m \u001b[0;32min\u001b[0m \u001b[0msample\u001b[0m\u001b[0;34m]\u001b[0m\u001b[0;34m\u001b[0m\u001b[0;34m\u001b[0m\u001b[0m\n\u001b[0;32m----> 3\u001b[0;31m     \u001b[0mimages\u001b[0m \u001b[0;34m=\u001b[0m \u001b[0mlist\u001b[0m\u001b[0;34m(\u001b[0m\u001b[0mimage\u001b[0m\u001b[0;34m.\u001b[0m\u001b[0mto\u001b[0m\u001b[0;34m(\u001b[0m\u001b[0mdevice\u001b[0m\u001b[0;34m)\u001b[0m \u001b[0;32mfor\u001b[0m \u001b[0mimage\u001b[0m \u001b[0;32min\u001b[0m \u001b[0mimages\u001b[0m\u001b[0;34m)\u001b[0m\u001b[0;34m\u001b[0m\u001b[0;34m\u001b[0m\u001b[0m\n\u001b[0m\u001b[1;32m      4\u001b[0m     \u001b[0moutputs\u001b[0m \u001b[0;34m=\u001b[0m \u001b[0mmodel\u001b[0m\u001b[0;34m(\u001b[0m\u001b[0mimages\u001b[0m\u001b[0;34m)\u001b[0m\u001b[0;34m\u001b[0m\u001b[0;34m\u001b[0m\u001b[0m\n\u001b[1;32m      5\u001b[0m \u001b[0;34m\u001b[0m\u001b[0m\n",
      "\u001b[0;32m<ipython-input-23-5abf59d7db9f>\u001b[0m in \u001b[0;36m<genexpr>\u001b[0;34m(.0)\u001b[0m\n\u001b[1;32m      1\u001b[0m \u001b[0;32mfor\u001b[0m \u001b[0mimages\u001b[0m\u001b[0;34m,\u001b[0m \u001b[0msample\u001b[0m \u001b[0;32min\u001b[0m \u001b[0mdataloader\u001b[0m\u001b[0;34m:\u001b[0m\u001b[0;34m\u001b[0m\u001b[0;34m\u001b[0m\u001b[0m\n\u001b[1;32m      2\u001b[0m     \u001b[0mimage_ids\u001b[0m \u001b[0;34m=\u001b[0m \u001b[0;34m[\u001b[0m\u001b[0mx\u001b[0m\u001b[0;34m[\u001b[0m\u001b[0;34m\"local_image_id\"\u001b[0m\u001b[0;34m]\u001b[0m \u001b[0;32mfor\u001b[0m \u001b[0mx\u001b[0m \u001b[0;32min\u001b[0m \u001b[0msample\u001b[0m\u001b[0;34m]\u001b[0m\u001b[0;34m\u001b[0m\u001b[0;34m\u001b[0m\u001b[0m\n\u001b[0;32m----> 3\u001b[0;31m     \u001b[0mimages\u001b[0m \u001b[0;34m=\u001b[0m \u001b[0mlist\u001b[0m\u001b[0;34m(\u001b[0m\u001b[0mimage\u001b[0m\u001b[0;34m.\u001b[0m\u001b[0mto\u001b[0m\u001b[0;34m(\u001b[0m\u001b[0mdevice\u001b[0m\u001b[0;34m)\u001b[0m \u001b[0;32mfor\u001b[0m \u001b[0mimage\u001b[0m \u001b[0;32min\u001b[0m \u001b[0mimages\u001b[0m\u001b[0;34m)\u001b[0m\u001b[0;34m\u001b[0m\u001b[0;34m\u001b[0m\u001b[0m\n\u001b[0m\u001b[1;32m      4\u001b[0m     \u001b[0moutputs\u001b[0m \u001b[0;34m=\u001b[0m \u001b[0mmodel\u001b[0m\u001b[0;34m(\u001b[0m\u001b[0mimages\u001b[0m\u001b[0;34m)\u001b[0m\u001b[0;34m\u001b[0m\u001b[0;34m\u001b[0m\u001b[0m\n\u001b[1;32m      5\u001b[0m \u001b[0;34m\u001b[0m\u001b[0m\n",
      "\u001b[0;32m/opt/conda/lib/python3.7/site-packages/torch/cuda/__init__.py\u001b[0m in \u001b[0;36m_lazy_init\u001b[0;34m()\u001b[0m\n\u001b[1;32m    147\u001b[0m             raise RuntimeError(\n\u001b[1;32m    148\u001b[0m                 \"Cannot re-initialize CUDA in forked subprocess. \" + msg)\n\u001b[0;32m--> 149\u001b[0;31m         \u001b[0m_check_driver\u001b[0m\u001b[0;34m(\u001b[0m\u001b[0;34m)\u001b[0m\u001b[0;34m\u001b[0m\u001b[0;34m\u001b[0m\u001b[0m\n\u001b[0m\u001b[1;32m    150\u001b[0m         \u001b[0;32mif\u001b[0m \u001b[0m_cudart\u001b[0m \u001b[0;32mis\u001b[0m \u001b[0;32mNone\u001b[0m\u001b[0;34m:\u001b[0m\u001b[0;34m\u001b[0m\u001b[0;34m\u001b[0m\u001b[0m\n\u001b[1;32m    151\u001b[0m             raise AssertionError(\n",
      "\u001b[0;32m/opt/conda/lib/python3.7/site-packages/torch/cuda/__init__.py\u001b[0m in \u001b[0;36m_check_driver\u001b[0;34m()\u001b[0m\n\u001b[1;32m     45\u001b[0m \u001b[0;32mdef\u001b[0m \u001b[0m_check_driver\u001b[0m\u001b[0;34m(\u001b[0m\u001b[0;34m)\u001b[0m\u001b[0;34m:\u001b[0m\u001b[0;34m\u001b[0m\u001b[0;34m\u001b[0m\u001b[0m\n\u001b[1;32m     46\u001b[0m     \u001b[0;32mif\u001b[0m \u001b[0;32mnot\u001b[0m \u001b[0mhasattr\u001b[0m\u001b[0;34m(\u001b[0m\u001b[0mtorch\u001b[0m\u001b[0;34m.\u001b[0m\u001b[0m_C\u001b[0m\u001b[0;34m,\u001b[0m \u001b[0;34m'_cuda_isDriverSufficient'\u001b[0m\u001b[0;34m)\u001b[0m\u001b[0;34m:\u001b[0m\u001b[0;34m\u001b[0m\u001b[0;34m\u001b[0m\u001b[0m\n\u001b[0;32m---> 47\u001b[0;31m         \u001b[0;32mraise\u001b[0m \u001b[0mAssertionError\u001b[0m\u001b[0;34m(\u001b[0m\u001b[0;34m\"Torch not compiled with CUDA enabled\"\u001b[0m\u001b[0;34m)\u001b[0m\u001b[0;34m\u001b[0m\u001b[0;34m\u001b[0m\u001b[0m\n\u001b[0m\u001b[1;32m     48\u001b[0m     \u001b[0;32mif\u001b[0m \u001b[0;32mnot\u001b[0m \u001b[0mtorch\u001b[0m\u001b[0;34m.\u001b[0m\u001b[0m_C\u001b[0m\u001b[0;34m.\u001b[0m\u001b[0m_cuda_isDriverSufficient\u001b[0m\u001b[0;34m(\u001b[0m\u001b[0;34m)\u001b[0m\u001b[0;34m:\u001b[0m\u001b[0;34m\u001b[0m\u001b[0;34m\u001b[0m\u001b[0m\n\u001b[1;32m     49\u001b[0m         \u001b[0;32mif\u001b[0m \u001b[0mtorch\u001b[0m\u001b[0;34m.\u001b[0m\u001b[0m_C\u001b[0m\u001b[0;34m.\u001b[0m\u001b[0m_cuda_getDriverVersion\u001b[0m\u001b[0;34m(\u001b[0m\u001b[0;34m)\u001b[0m \u001b[0;34m==\u001b[0m \u001b[0;36m0\u001b[0m\u001b[0;34m:\u001b[0m\u001b[0;34m\u001b[0m\u001b[0;34m\u001b[0m\u001b[0m\n",
      "\u001b[0;31mAssertionError\u001b[0m: Torch not compiled with CUDA enabled"
     ]
    }
   ],
   "source": [
    "for images, sample in dataloader:\n",
    "    image_ids = [x[\"local_image_id\"] for x in sample]\n",
    "    images = list(image.to(device) for image in images)\n",
    "    outputs = model(images)\n",
    "\n",
    "    for i, image in enumerate(images):\n",
    "\n",
    "        boxes = outputs[i]['boxes'].data.cpu().numpy()\n",
    "        scores = outputs[i]['scores'].data.cpu().numpy()\n",
    "        \n",
    "        boxes = boxes[scores >= detection_threshold].astype(np.int32)\n",
    "        scores = scores[scores >= detection_threshold]\n",
    "        image_id = image_ids[i]\n",
    "        \n",
    "        boxes[:, 2] = boxes[:, 2] - boxes[:, 0]\n",
    "        boxes[:, 3] = boxes[:, 3] - boxes[:, 1]\n",
    "        \n",
    "        result = {\n",
    "            'image_id': image_id,\n",
    "            'PredictionString': format_prediction_string(boxes, scores) if boxes.shape[0] > 0 else \"\"\n",
    "        }\n",
    "\n",
    "        \n",
    "        results.append(result)"
   ]
  },
  {
   "cell_type": "code",
   "execution_count": 24,
   "metadata": {
    "execution": {
     "iopub.execute_input": "2020-08-11T06:59:45.021460Z",
     "iopub.status.busy": "2020-08-11T06:59:45.020376Z",
     "iopub.status.idle": "2020-08-11T06:59:45.024567Z",
     "shell.execute_reply": "2020-08-11T06:59:45.023445Z"
    },
    "papermill": {
     "duration": 0.045583,
     "end_time": "2020-08-11T06:59:45.024767",
     "exception": false,
     "start_time": "2020-08-11T06:59:44.979184",
     "status": "completed"
    },
    "tags": []
   },
   "outputs": [],
   "source": [
    "test_df = pd.DataFrame(results, columns=['image_id', 'PredictionString'])"
   ]
  },
  {
   "cell_type": "code",
   "execution_count": 25,
   "metadata": {
    "execution": {
     "iopub.execute_input": "2020-08-11T06:59:45.087506Z",
     "iopub.status.busy": "2020-08-11T06:59:45.086691Z",
     "iopub.status.idle": "2020-08-11T06:59:45.178219Z",
     "shell.execute_reply": "2020-08-11T06:59:45.177564Z"
    },
    "papermill": {
     "duration": 0.124844,
     "end_time": "2020-08-11T06:59:45.178359",
     "exception": false,
     "start_time": "2020-08-11T06:59:45.053515",
     "status": "completed"
    },
    "tags": []
   },
   "outputs": [],
   "source": [
    "test_df.to_csv('submission.csv', index=False)"
   ]
  },
  {
   "cell_type": "code",
   "execution_count": 26,
   "metadata": {
    "execution": {
     "iopub.execute_input": "2020-08-11T06:59:45.243248Z",
     "iopub.status.busy": "2020-08-11T06:59:45.242434Z",
     "iopub.status.idle": "2020-08-11T06:59:45.251407Z",
     "shell.execute_reply": "2020-08-11T06:59:45.250648Z"
    },
    "papermill": {
     "duration": 0.044995,
     "end_time": "2020-08-11T06:59:45.251532",
     "exception": false,
     "start_time": "2020-08-11T06:59:45.206537",
     "status": "completed"
    },
    "tags": []
   },
   "outputs": [
    {
     "data": {
      "text/html": [
       "<div>\n",
       "<style scoped>\n",
       "    .dataframe tbody tr th:only-of-type {\n",
       "        vertical-align: middle;\n",
       "    }\n",
       "\n",
       "    .dataframe tbody tr th {\n",
       "        vertical-align: top;\n",
       "    }\n",
       "\n",
       "    .dataframe thead th {\n",
       "        text-align: right;\n",
       "    }\n",
       "</style>\n",
       "<table border=\"1\" class=\"dataframe\">\n",
       "  <thead>\n",
       "    <tr style=\"text-align: right;\">\n",
       "      <th></th>\n",
       "      <th>image_id</th>\n",
       "      <th>PredictionString</th>\n",
       "    </tr>\n",
       "  </thead>\n",
       "  <tbody>\n",
       "  </tbody>\n",
       "</table>\n",
       "</div>"
      ],
      "text/plain": [
       "Empty DataFrame\n",
       "Columns: [image_id, PredictionString]\n",
       "Index: []"
      ]
     },
     "execution_count": 26,
     "metadata": {},
     "output_type": "execute_result"
    }
   ],
   "source": [
    "test_df.head()"
   ]
  },
  {
   "cell_type": "code",
   "execution_count": null,
   "metadata": {
    "papermill": {
     "duration": 0.028784,
     "end_time": "2020-08-11T06:59:45.309387",
     "exception": false,
     "start_time": "2020-08-11T06:59:45.280603",
     "status": "completed"
    },
    "tags": []
   },
   "outputs": [],
   "source": []
  }
 ],
 "metadata": {
  "kernelspec": {
   "display_name": "Python 3",
   "language": "python",
   "name": "python3"
  },
  "language_info": {
   "codemirror_mode": {
    "name": "ipython",
    "version": 3
   },
   "file_extension": ".py",
   "mimetype": "text/x-python",
   "name": "python",
   "nbconvert_exporter": "python",
   "pygments_lexer": "ipython3",
   "version": "3.7.6"
  },
  "papermill": {
   "duration": 10.729549,
   "end_time": "2020-08-11T06:59:45.446090",
   "environment_variables": {},
   "exception": null,
   "input_path": "__notebook__.ipynb",
   "output_path": "__notebook__.ipynb",
   "parameters": {},
   "start_time": "2020-08-11T06:59:34.716541",
   "version": "2.1.0"
  }
 },
 "nbformat": 4,
 "nbformat_minor": 4
}
